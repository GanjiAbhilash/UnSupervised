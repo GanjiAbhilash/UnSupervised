{
 "cells": [
  {
   "cell_type": "code",
   "execution_count": 48,
   "metadata": {},
   "outputs": [],
   "source": [
    "%matplotlib inline\n",
    "#imports\n",
    "import numpy as np\n",
    "import pandas as pd\n",
    "from scipy.stats import zscore\n",
    "from sklearn.preprocessing import Imputer\n",
    "from sklearn.metrics import accuracy_score\n",
    "import seaborn as sns\n",
    "from imblearn.over_sampling import SMOTE\n",
    "from sklearn.tree import DecisionTreeClassifier\n",
    "from sklearn.tree import DecisionTreeRegressor\n",
    "from sklearn.neighbors import KNeighborsClassifier\n",
    "from scipy.stats import zscore\n",
    "from sklearn.preprocessing import Imputer\n",
    "from sklearn.metrics import accuracy_score\n",
    "from sklearn import metrics\n",
    "from sklearn.preprocessing import StandardScaler"
   ]
  },
  {
   "cell_type": "code",
   "execution_count": 55,
   "metadata": {},
   "outputs": [
    {
     "data": {
      "text/html": [
       "<div>\n",
       "<style scoped>\n",
       "    .dataframe tbody tr th:only-of-type {\n",
       "        vertical-align: middle;\n",
       "    }\n",
       "\n",
       "    .dataframe tbody tr th {\n",
       "        vertical-align: top;\n",
       "    }\n",
       "\n",
       "    .dataframe thead th {\n",
       "        text-align: right;\n",
       "    }\n",
       "</style>\n",
       "<table border=\"1\" class=\"dataframe\">\n",
       "  <thead>\n",
       "    <tr style=\"text-align: right;\">\n",
       "      <th></th>\n",
       "      <th>number_of_elements</th>\n",
       "      <th>mean_atomic_mass</th>\n",
       "      <th>wtd_mean_atomic_mass</th>\n",
       "      <th>gmean_atomic_mass</th>\n",
       "      <th>wtd_gmean_atomic_mass</th>\n",
       "      <th>entropy_atomic_mass</th>\n",
       "      <th>wtd_entropy_atomic_mass</th>\n",
       "      <th>range_atomic_mass</th>\n",
       "      <th>wtd_range_atomic_mass</th>\n",
       "      <th>std_atomic_mass</th>\n",
       "      <th>...</th>\n",
       "      <th>wtd_mean_Valence</th>\n",
       "      <th>gmean_Valence</th>\n",
       "      <th>wtd_gmean_Valence</th>\n",
       "      <th>entropy_Valence</th>\n",
       "      <th>wtd_entropy_Valence</th>\n",
       "      <th>range_Valence</th>\n",
       "      <th>wtd_range_Valence</th>\n",
       "      <th>std_Valence</th>\n",
       "      <th>wtd_std_Valence</th>\n",
       "      <th>critical_temp</th>\n",
       "    </tr>\n",
       "  </thead>\n",
       "  <tbody>\n",
       "    <tr>\n",
       "      <th>0</th>\n",
       "      <td>4</td>\n",
       "      <td>88.944468</td>\n",
       "      <td>57.862692</td>\n",
       "      <td>66.361592</td>\n",
       "      <td>36.116612</td>\n",
       "      <td>1.181795</td>\n",
       "      <td>1.062396</td>\n",
       "      <td>122.90607</td>\n",
       "      <td>31.794921</td>\n",
       "      <td>51.968828</td>\n",
       "      <td>...</td>\n",
       "      <td>2.257143</td>\n",
       "      <td>2.213364</td>\n",
       "      <td>2.219783</td>\n",
       "      <td>1.368922</td>\n",
       "      <td>1.066221</td>\n",
       "      <td>1</td>\n",
       "      <td>1.085714</td>\n",
       "      <td>0.433013</td>\n",
       "      <td>0.437059</td>\n",
       "      <td>29.0</td>\n",
       "    </tr>\n",
       "    <tr>\n",
       "      <th>1</th>\n",
       "      <td>5</td>\n",
       "      <td>92.729214</td>\n",
       "      <td>58.518416</td>\n",
       "      <td>73.132787</td>\n",
       "      <td>36.396602</td>\n",
       "      <td>1.449309</td>\n",
       "      <td>1.057755</td>\n",
       "      <td>122.90607</td>\n",
       "      <td>36.161939</td>\n",
       "      <td>47.094633</td>\n",
       "      <td>...</td>\n",
       "      <td>2.257143</td>\n",
       "      <td>1.888175</td>\n",
       "      <td>2.210679</td>\n",
       "      <td>1.557113</td>\n",
       "      <td>1.047221</td>\n",
       "      <td>2</td>\n",
       "      <td>1.128571</td>\n",
       "      <td>0.632456</td>\n",
       "      <td>0.468606</td>\n",
       "      <td>26.0</td>\n",
       "    </tr>\n",
       "    <tr>\n",
       "      <th>2</th>\n",
       "      <td>4</td>\n",
       "      <td>88.944468</td>\n",
       "      <td>57.885242</td>\n",
       "      <td>66.361592</td>\n",
       "      <td>36.122509</td>\n",
       "      <td>1.181795</td>\n",
       "      <td>0.975980</td>\n",
       "      <td>122.90607</td>\n",
       "      <td>35.741099</td>\n",
       "      <td>51.968828</td>\n",
       "      <td>...</td>\n",
       "      <td>2.271429</td>\n",
       "      <td>2.213364</td>\n",
       "      <td>2.232679</td>\n",
       "      <td>1.368922</td>\n",
       "      <td>1.029175</td>\n",
       "      <td>1</td>\n",
       "      <td>1.114286</td>\n",
       "      <td>0.433013</td>\n",
       "      <td>0.444697</td>\n",
       "      <td>19.0</td>\n",
       "    </tr>\n",
       "    <tr>\n",
       "      <th>3</th>\n",
       "      <td>4</td>\n",
       "      <td>88.944468</td>\n",
       "      <td>57.873967</td>\n",
       "      <td>66.361592</td>\n",
       "      <td>36.119560</td>\n",
       "      <td>1.181795</td>\n",
       "      <td>1.022291</td>\n",
       "      <td>122.90607</td>\n",
       "      <td>33.768010</td>\n",
       "      <td>51.968828</td>\n",
       "      <td>...</td>\n",
       "      <td>2.264286</td>\n",
       "      <td>2.213364</td>\n",
       "      <td>2.226222</td>\n",
       "      <td>1.368922</td>\n",
       "      <td>1.048834</td>\n",
       "      <td>1</td>\n",
       "      <td>1.100000</td>\n",
       "      <td>0.433013</td>\n",
       "      <td>0.440952</td>\n",
       "      <td>22.0</td>\n",
       "    </tr>\n",
       "    <tr>\n",
       "      <th>4</th>\n",
       "      <td>4</td>\n",
       "      <td>88.944468</td>\n",
       "      <td>57.840143</td>\n",
       "      <td>66.361592</td>\n",
       "      <td>36.110716</td>\n",
       "      <td>1.181795</td>\n",
       "      <td>1.129224</td>\n",
       "      <td>122.90607</td>\n",
       "      <td>27.848743</td>\n",
       "      <td>51.968828</td>\n",
       "      <td>...</td>\n",
       "      <td>2.242857</td>\n",
       "      <td>2.213364</td>\n",
       "      <td>2.206963</td>\n",
       "      <td>1.368922</td>\n",
       "      <td>1.096052</td>\n",
       "      <td>1</td>\n",
       "      <td>1.057143</td>\n",
       "      <td>0.433013</td>\n",
       "      <td>0.428809</td>\n",
       "      <td>23.0</td>\n",
       "    </tr>\n",
       "  </tbody>\n",
       "</table>\n",
       "<p>5 rows × 82 columns</p>\n",
       "</div>"
      ],
      "text/plain": [
       "   number_of_elements  mean_atomic_mass  wtd_mean_atomic_mass  \\\n",
       "0                   4         88.944468             57.862692   \n",
       "1                   5         92.729214             58.518416   \n",
       "2                   4         88.944468             57.885242   \n",
       "3                   4         88.944468             57.873967   \n",
       "4                   4         88.944468             57.840143   \n",
       "\n",
       "   gmean_atomic_mass  wtd_gmean_atomic_mass  entropy_atomic_mass  \\\n",
       "0          66.361592              36.116612             1.181795   \n",
       "1          73.132787              36.396602             1.449309   \n",
       "2          66.361592              36.122509             1.181795   \n",
       "3          66.361592              36.119560             1.181795   \n",
       "4          66.361592              36.110716             1.181795   \n",
       "\n",
       "   wtd_entropy_atomic_mass  range_atomic_mass  wtd_range_atomic_mass  \\\n",
       "0                 1.062396          122.90607              31.794921   \n",
       "1                 1.057755          122.90607              36.161939   \n",
       "2                 0.975980          122.90607              35.741099   \n",
       "3                 1.022291          122.90607              33.768010   \n",
       "4                 1.129224          122.90607              27.848743   \n",
       "\n",
       "   std_atomic_mass      ...        wtd_mean_Valence  gmean_Valence  \\\n",
       "0        51.968828      ...                2.257143       2.213364   \n",
       "1        47.094633      ...                2.257143       1.888175   \n",
       "2        51.968828      ...                2.271429       2.213364   \n",
       "3        51.968828      ...                2.264286       2.213364   \n",
       "4        51.968828      ...                2.242857       2.213364   \n",
       "\n",
       "   wtd_gmean_Valence  entropy_Valence  wtd_entropy_Valence  range_Valence  \\\n",
       "0           2.219783         1.368922             1.066221              1   \n",
       "1           2.210679         1.557113             1.047221              2   \n",
       "2           2.232679         1.368922             1.029175              1   \n",
       "3           2.226222         1.368922             1.048834              1   \n",
       "4           2.206963         1.368922             1.096052              1   \n",
       "\n",
       "   wtd_range_Valence  std_Valence  wtd_std_Valence  critical_temp  \n",
       "0           1.085714     0.433013         0.437059           29.0  \n",
       "1           1.128571     0.632456         0.468606           26.0  \n",
       "2           1.114286     0.433013         0.444697           19.0  \n",
       "3           1.100000     0.433013         0.440952           22.0  \n",
       "4           1.057143     0.433013         0.428809           23.0  \n",
       "\n",
       "[5 rows x 82 columns]"
      ]
     },
     "execution_count": 55,
     "metadata": {},
     "output_type": "execute_result"
    }
   ],
   "source": [
    "train=pd.read_csv(\"train.csv\")\n",
    "train.head()"
   ]
  },
  {
   "cell_type": "code",
   "execution_count": 56,
   "metadata": {},
   "outputs": [
    {
     "data": {
      "text/plain": [
       "(21263, 82)"
      ]
     },
     "execution_count": 56,
     "metadata": {},
     "output_type": "execute_result"
    }
   ],
   "source": [
    "train.shape"
   ]
  },
  {
   "cell_type": "code",
   "execution_count": 57,
   "metadata": {},
   "outputs": [
    {
     "data": {
      "text/plain": [
       "H                0\n",
       "He               0\n",
       "Li               0\n",
       "Be               0\n",
       "B                0\n",
       "C                0\n",
       "N                0\n",
       "O                0\n",
       "F                0\n",
       "Ne               0\n",
       "Na               0\n",
       "Mg               0\n",
       "Al               0\n",
       "Si               0\n",
       "P                0\n",
       "S                0\n",
       "Cl               0\n",
       "Ar               0\n",
       "K                0\n",
       "Ca               0\n",
       "Sc               0\n",
       "Ti               0\n",
       "V                0\n",
       "Cr               0\n",
       "Mn               0\n",
       "Fe               0\n",
       "Co               0\n",
       "Ni               0\n",
       "Cu               0\n",
       "Zn               0\n",
       "                ..\n",
       "Pr               0\n",
       "Nd               0\n",
       "Pm               0\n",
       "Sm               0\n",
       "Eu               0\n",
       "Gd               0\n",
       "Tb               0\n",
       "Dy               0\n",
       "Ho               0\n",
       "Er               0\n",
       "Tm               0\n",
       "Yb               0\n",
       "Lu               0\n",
       "Hf               0\n",
       "Ta               0\n",
       "W                0\n",
       "Re               0\n",
       "Os               0\n",
       "Ir               0\n",
       "Pt               0\n",
       "Au               0\n",
       "Hg               0\n",
       "Tl               0\n",
       "Pb               0\n",
       "Bi               0\n",
       "Po               0\n",
       "At               0\n",
       "Rn               0\n",
       "critical_temp    0\n",
       "material         0\n",
       "Length: 88, dtype: int64"
      ]
     },
     "execution_count": 57,
     "metadata": {},
     "output_type": "execute_result"
    }
   ],
   "source": [
    "test.isnull().sum()"
   ]
  },
  {
   "cell_type": "code",
   "execution_count": 25,
   "metadata": {},
   "outputs": [],
   "source": [
    "train_f=train.iloc[:,:80]"
   ]
  },
  {
   "cell_type": "code",
   "execution_count": 26,
   "metadata": {},
   "outputs": [],
   "source": [
    "train_l=train.iloc[:,81]"
   ]
  },
  {
   "cell_type": "code",
   "execution_count": 28,
   "metadata": {},
   "outputs": [],
   "source": [
    "train_f_z = train_f.apply(zscore)"
   ]
  },
  {
   "cell_type": "code",
   "execution_count": 58,
   "metadata": {},
   "outputs": [],
   "source": [
    "from sklearn.decomposition import PCA\n",
    "pca = PCA()\n",
    "principalComponents = pca.fit_transform(train_f_z) "
   ]
  },
  {
   "cell_type": "code",
   "execution_count": 59,
   "metadata": {},
   "outputs": [
    {
     "data": {
      "text/plain": [
       "array([3.15358456e+01, 8.48746030e+00, 7.34616486e+00, 6.40315185e+00,\n",
       "       4.63637468e+00, 3.06775103e+00, 2.92676074e+00, 2.43206896e+00,\n",
       "       1.74908486e+00, 1.55002156e+00, 1.46710127e+00, 1.16281043e+00,\n",
       "       9.39413338e-01, 8.07011953e-01, 7.87835075e-01, 6.17552812e-01,\n",
       "       5.64610809e-01, 4.39660453e-01, 3.91152193e-01, 3.06914051e-01,\n",
       "       2.44075489e-01, 2.31912361e-01, 1.97320175e-01, 1.67148676e-01,\n",
       "       1.59646769e-01, 1.44172040e-01, 1.31488920e-01, 1.11817228e-01,\n",
       "       9.66093976e-02, 9.07868228e-02, 8.29535953e-02, 7.77432047e-02,\n",
       "       6.62205663e-02, 5.55240935e-02, 5.06003416e-02, 4.63858361e-02,\n",
       "       4.14615262e-02, 3.54468543e-02, 3.46159612e-02, 2.72746155e-02,\n",
       "       2.51899652e-02, 2.08659178e-02, 1.97044898e-02, 1.83926490e-02,\n",
       "       1.76541105e-02, 1.59487348e-02, 1.52224697e-02, 1.46645027e-02,\n",
       "       1.44878934e-02, 1.27340595e-02, 1.26630249e-02, 1.05775226e-02,\n",
       "       9.77324559e-03, 9.60527205e-03, 8.87056299e-03, 7.23728716e-03,\n",
       "       6.82641951e-03, 6.51763167e-03, 5.81915273e-03, 5.30119009e-03,\n",
       "       4.72715856e-03, 3.84138793e-03, 3.58452137e-03, 3.38578462e-03,\n",
       "       2.87470311e-03, 2.62817930e-03, 2.29441576e-03, 1.86773783e-03,\n",
       "       1.69189089e-03, 1.49331314e-03, 1.35155914e-03, 1.19970181e-03,\n",
       "       7.60077061e-04, 6.30806676e-04, 4.48366835e-04, 4.14405043e-04,\n",
       "       2.12951097e-04, 1.78565328e-04, 1.19820512e-04, 4.97941091e-05])"
      ]
     },
     "execution_count": 59,
     "metadata": {},
     "output_type": "execute_result"
    }
   ],
   "source": [
    "pca.explained_variance_"
   ]
  },
  {
   "cell_type": "code",
   "execution_count": 91,
   "metadata": {},
   "outputs": [
    {
     "name": "stdout",
     "output_type": "stream",
     "text": [
      "[3.94179531e-01 1.06088264e-01 9.18227421e-02 8.00356339e-02\n",
      " 5.79519579e-02 3.83450845e-02 3.65827887e-02 3.03994322e-02\n",
      " 2.18625325e-02 1.93743583e-02 1.83379034e-02 1.45344468e-02\n",
      " 1.17421145e-02 1.00871750e-02 9.84747529e-03 7.71904711e-03\n",
      " 7.05730319e-03 5.49549720e-03 4.88917247e-03 3.83624521e-03\n",
      " 3.05080012e-03 2.89876817e-03 2.46638619e-03 2.08926019e-03\n",
      " 1.99549076e-03 1.80206574e-03 1.64353420e-03 1.39764962e-03\n",
      " 1.20756068e-03 1.13478191e-03 1.03687117e-03 9.71744355e-04\n",
      " 8.27718150e-04 6.94018528e-04 6.32474523e-04 5.79795683e-04\n",
      " 5.18244703e-04 4.43064840e-04 4.32679165e-04 3.40916660e-04\n",
      " 3.14859757e-04 2.60811706e-04 2.46294539e-04 2.29897300e-04\n",
      " 2.20666002e-04 1.99349809e-04 1.90271922e-04 1.83297663e-04\n",
      " 1.81090150e-04 1.59168258e-04 1.58280367e-04 1.32212815e-04\n",
      " 1.22159824e-04 1.20060254e-04 1.10876823e-04 9.04618348e-05\n",
      " 8.53262308e-05 8.14665643e-05 7.27359882e-05 6.62617596e-05\n",
      " 5.90867030e-05 4.80150908e-05 4.48044099e-05 4.23203173e-05\n",
      " 3.59320989e-05 3.28506962e-05 2.86788481e-05 2.33456249e-05\n",
      " 2.11476415e-05 1.86655364e-05 1.68936947e-05 1.49955674e-05\n",
      " 9.50051644e-06 7.88471261e-06 5.60432185e-06 5.17981942e-06\n",
      " 2.66176352e-06 2.23196162e-06 1.49768596e-06 6.22397091e-07]\n"
     ]
    }
   ],
   "source": [
    "h=pca.explained_variance_ratio_\n",
    "print(h)"
   ]
  },
  {
   "cell_type": "code",
   "execution_count": null,
   "metadata": {},
   "outputs": [],
   "source": []
  },
  {
   "cell_type": "code",
   "execution_count": 61,
   "metadata": {},
   "outputs": [
    {
     "data": {
      "text/plain": [
       "array([0.39417953, 0.5002678 , 0.59209054, 0.67212617, 0.73007813,\n",
       "       0.76842321, 0.805006  , 0.83540543, 0.85726797, 0.87664233,\n",
       "       0.89498023, 0.90951468, 0.92125679, 0.93134397, 0.94119144,\n",
       "       0.94891049, 0.95596779, 0.96146329, 0.96635246, 0.97018871,\n",
       "       0.97323951, 0.97613827, 0.97860466, 0.98069392, 0.98268941,\n",
       "       0.98449148, 0.98613501, 0.98753266, 0.98874022, 0.989875  ,\n",
       "       0.99091187, 0.99188362, 0.99271134, 0.99340536, 0.99403783,\n",
       "       0.99461763, 0.99513587, 0.99557894, 0.99601161, 0.99635253,\n",
       "       0.99666739, 0.9969282 , 0.9971745 , 0.99740439, 0.99762506,\n",
       "       0.99782441, 0.99801468, 0.99819798, 0.99837907, 0.99853824,\n",
       "       0.99869652, 0.99882873, 0.99895089, 0.99907095, 0.99918183,\n",
       "       0.99927229, 0.99935762, 0.99943908, 0.99951182, 0.99957808,\n",
       "       0.99963717, 0.99968518, 0.99972999, 0.99977231, 0.99980824,\n",
       "       0.99984109, 0.99986977, 0.99989311, 0.99991426, 0.99993293,\n",
       "       0.99994982, 0.99996482, 0.99997432, 0.9999822 , 0.99998781,\n",
       "       0.99999299, 0.99999565, 0.99999788, 0.99999938, 1.        ])"
      ]
     },
     "execution_count": 61,
     "metadata": {},
     "output_type": "execute_result"
    }
   ],
   "source": [
    "pca.explained_variance_ratio_.cumsum()"
   ]
  },
  {
   "cell_type": "code",
   "execution_count": 106,
   "metadata": {},
   "outputs": [
    {
     "data": {
      "text/plain": [
       "168.25510908373786"
      ]
     },
     "execution_count": 106,
     "metadata": {},
     "output_type": "execute_result"
    }
   ],
   "source": [
    "from sklearn.model_selection import train_test_split\n",
    "\n",
    "X_train, X_test, y_train, y_test = train_test_split(principalComponents, train_l, test_size=0.2, random_state=0)\n",
    "\n",
    "DTRegressor= DecisionTreeRegressor ()\n",
    "DTRegressor.fit(X_train,y_train)\n",
    "predicted_labels = DTRegressor.predict(X_test)\n",
    "from sklearn.metrics import mean_squared_error\n",
    "mean_squared_error(y_test,predicted_labels)\n",
    "\n"
   ]
  },
  {
   "cell_type": "code",
   "execution_count": 100,
   "metadata": {},
   "outputs": [
    {
     "data": {
      "text/plain": [
       "152.52736556297157"
      ]
     },
     "execution_count": 100,
     "metadata": {},
     "output_type": "execute_result"
    }
   ],
   "source": [
    "#without PCA\n",
    "\n",
    "from sklearn.model_selection import train_test_split\n",
    "\n",
    "X_train, X_test, y_train, y_test = train_test_split(train_f_z, train_l, test_size=0.2, random_state=0)\n",
    "\n",
    "DTRegressor= DecisionTreeRegressor ()\n",
    "DTRegressor.fit(X_train,y_train)\n",
    "predicted_labels = DTRegressor.predict(X_test)\n",
    "from sklearn.metrics import mean_squared_error\n",
    "mean_squared_error(y_test,predicted_labels)\n",
    "\n"
   ]
  },
  {
   "cell_type": "code",
   "execution_count": 103,
   "metadata": {},
   "outputs": [
    {
     "data": {
      "text/plain": [
       "18.514249538213527"
      ]
     },
     "execution_count": 103,
     "metadata": {},
     "output_type": "execute_result"
    }
   ],
   "source": [
    "DTRegressor= DecisionTreeRegressor ()\n",
    "DTRegressor.fit(principalComponents,train_l)\n",
    "predicted_labels = DTRegressor.predict(principalComponents)\n",
    "from sklearn.metrics import mean_squared_error\n",
    "mean_squared_error(train_l,predicted_labels)"
   ]
  },
  {
   "cell_type": "code",
   "execution_count": 105,
   "metadata": {},
   "outputs": [
    {
     "data": {
      "text/plain": [
       "18.514249538204826"
      ]
     },
     "execution_count": 105,
     "metadata": {},
     "output_type": "execute_result"
    }
   ],
   "source": [
    "#without PCA\n",
    "DTRegressor= DecisionTreeRegressor ()\n",
    "DTRegressor.fit(train_f_z,train_l)\n",
    "predicted_labels = DTRegressor.predict(train_f_z)\n",
    "from sklearn.metrics import mean_squared_error\n",
    "mean_squared_error(train_l,predicted_labels)"
   ]
  },
  {
   "cell_type": "code",
   "execution_count": null,
   "metadata": {},
   "outputs": [],
   "source": []
  }
 ],
 "metadata": {
  "kernelspec": {
   "display_name": "Python 3",
   "language": "python",
   "name": "python3"
  },
  "language_info": {
   "codemirror_mode": {
    "name": "ipython",
    "version": 3
   },
   "file_extension": ".py",
   "mimetype": "text/x-python",
   "name": "python",
   "nbconvert_exporter": "python",
   "pygments_lexer": "ipython3",
   "version": "3.7.0"
  }
 },
 "nbformat": 4,
 "nbformat_minor": 2
}
